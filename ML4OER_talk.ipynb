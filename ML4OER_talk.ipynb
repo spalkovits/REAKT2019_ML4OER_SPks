{
 "cells": [
  {
   "cell_type": "markdown",
   "metadata": {},
   "source": [
    "[![Open In Colab](https://colab.research.google.com/assets/colab-badge.svg)](https://colab.research.google.com/github/spalkovits/ML_NiFeCoCe_talk/blob/master/notebooks/ML4OER_talk.ipynb)\n",
    "\n",
    "If you like to follow along this talk click the colab button above."
   ]
  },
  {
   "cell_type": "markdown",
   "metadata": {},
   "source": [
    "# Machine learning approaches for the prediction of oxygen evolution catalysts.\n",
    "## Dr. Stefan Palkovits"
   ]
  },
  {
   "cell_type": "code",
   "execution_count": null,
   "metadata": {},
   "outputs": [],
   "source": [
    "url_full = 'https://github.com/spalkovits/ML_NiFeCoCe_talk/blob/master/full_dataset.csv'\n",
    "url_own = 'https://github.com/spalkovits/ML_NiFeCoCe_talk/blob/master/own_dataset.csv'"
   ]
  }
 ],
 "metadata": {
  "kernelspec": {
   "display_name": "Python 3",
   "language": "python",
   "name": "python3"
  },
  "language_info": {
   "codemirror_mode": {
    "name": "ipython",
    "version": 3
   },
   "file_extension": ".py",
   "mimetype": "text/x-python",
   "name": "python",
   "nbconvert_exporter": "python",
   "pygments_lexer": "ipython3",
   "version": "3.6.8"
  }
 },
 "nbformat": 4,
 "nbformat_minor": 2
}
